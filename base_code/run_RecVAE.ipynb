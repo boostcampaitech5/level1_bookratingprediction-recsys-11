{
 "cells": [
  {
   "cell_type": "code",
   "execution_count": 1,
   "id": "c2cca873-9df2-4e2e-901f-116a7c140fc2",
   "metadata": {
    "tags": []
   },
   "outputs": [],
   "source": [
    "import os\n",
    "import shutil\n",
    "import sys\n",
    "\n",
    "import numpy as np\n",
    "from scipy import sparse\n",
    "\n",
    "import matplotlib.pyplot as plt\n",
    "%matplotlib inline\n",
    "\n",
    "import seaborn as sns\n",
    "import pandas as pd\n",
    "import bottleneck as bn"
   ]
  },
  {
   "cell_type": "code",
   "execution_count": 2,
   "id": "25cb5337-00a8-494c-9995-0459ac768c31",
   "metadata": {
    "tags": []
   },
   "outputs": [],
   "source": [
    "data_dir = '../data/'\n",
    "tr_data = pd.read_csv(data_dir+'train_ratings.csv')\n",
    "te_data = pd.read_csv(data_dir+'test_ratings.csv')"
   ]
  },
  {
   "cell_type": "code",
   "execution_count": 3,
   "id": "bbd13024-5521-45aa-9e0b-f549b5ed296e",
   "metadata": {
    "tags": []
   },
   "outputs": [
    {
     "name": "stdout",
     "output_type": "stream",
     "text": [
      "<class 'pandas.core.frame.DataFrame'>\n",
      "RangeIndex: 306795 entries, 0 to 306794\n",
      "Data columns (total 3 columns):\n",
      " #   Column   Non-Null Count   Dtype \n",
      "---  ------   --------------   ----- \n",
      " 0   user_id  306795 non-null  int64 \n",
      " 1   isbn     306795 non-null  object\n",
      " 2   rating   306795 non-null  int64 \n",
      "dtypes: int64(2), object(1)\n",
      "memory usage: 7.0+ MB\n"
     ]
    }
   ],
   "source": [
    "tr_data.info()"
   ]
  },
  {
   "cell_type": "markdown",
   "id": "8e523c3e-88ed-4ab0-ba56-f72933d1a04d",
   "metadata": {},
   "source": [
    "## Preprocessing"
   ]
  },
  {
   "cell_type": "code",
   "execution_count": 4,
   "id": "4abc74a6-46bc-4bfa-bceb-e8e2c062d6cf",
   "metadata": {
    "tags": []
   },
   "outputs": [],
   "source": [
    "def get_count(tp, id):\n",
    "    playcount_groupbyid = tp[[id]].groupby(id, as_index=False)\n",
    "    count = playcount_groupbyid.size()\n",
    "    return count"
   ]
  },
  {
   "cell_type": "code",
   "execution_count": 5,
   "id": "ca1b7064-6f6d-4b81-9502-5238e2d205e1",
   "metadata": {
    "tags": []
   },
   "outputs": [],
   "source": [
    "def filter_triplets(tp, min_uc=1, min_sc=0):\n",
    "    # Only keep the triplets for items which were clicked on by at least min_sc users. \n",
    "    if min_sc > 0:\n",
    "        itemcount = get_count(tp, 'isbn')\n",
    "        tp = tp[tp['isbn'].isin(itemcount.index[itemcount['size'] >= min_sc])]\n",
    "    \n",
    "    # Only keep the triplets for users who clicked on at least min_uc items\n",
    "    # After doing this, some of the items will have less than min_uc users, but should only be a small proportion\n",
    "    if min_uc > 0:\n",
    "        usercount = get_count(tp, 'user_id')\n",
    "        tp = tp[tp['user_id'].isin(usercount.index[usercount['size'] >= min_uc])]\n",
    "    \n",
    "    # Update both usercount and itemcount after filtering\n",
    "    usercount, itemcount = get_count(tp, 'user_id'), get_count(tp, 'isbn') \n",
    "    return tp, usercount, itemcount"
   ]
  },
  {
   "cell_type": "markdown",
   "id": "628bb329-de3c-4947-9f3c-3e6f32450813",
   "metadata": {
    "tags": []
   },
   "source": [
    "Only keep items that are clicked on by at least 2 users"
   ]
  },
  {
   "cell_type": "code",
   "execution_count": 6,
   "id": "0df08848-2c0e-4edd-87b6-d56df86f71d1",
   "metadata": {
    "tags": []
   },
   "outputs": [],
   "source": [
    "tr_data, tr_user_activity, tr_item_popularity = filter_triplets(tr_data)"
   ]
  },
  {
   "cell_type": "code",
   "execution_count": 7,
   "id": "2d9ff6a4-5923-40d9-9fa2-b5cca706bd08",
   "metadata": {
    "tags": []
   },
   "outputs": [
    {
     "name": "stdout",
     "output_type": "stream",
     "text": [
      "After filtering, there are 69182 watching events from 12961 users and 43564 movies (sparsity: 0.012%)\n"
     ]
    }
   ],
   "source": [
    "sparsity = 1. * tr_data.shape[0] / (tr_user_activity.shape[0] * tr_item_popularity.shape[0])\n",
    "\n",
    "print(\"After filtering, there are %d watching events from %d users and %d movies (sparsity: %.3f%%)\" % \n",
    "      (tr_data.shape[0], tr_user_activity.shape[0], tr_item_popularity.shape[0], sparsity * 100))"
   ]
  },
  {
   "cell_type": "code",
   "execution_count": 8,
   "id": "40cf960a-26e4-402a-a6f6-d88763db7447",
   "metadata": {
    "tags": []
   },
   "outputs": [],
   "source": [
    "def numerize(tp):\n",
    "    uid = map(lambda x: profile2id[x], tp['user_id'])\n",
    "    sid = map(lambda x: show2id[x], tp['isbn'])\n",
    "    return pd.DataFrame(data={'uid': list(uid), 'sid': list(sid)}, columns=['uid', 'sid'])"
   ]
  },
  {
   "cell_type": "code",
   "execution_count": 9,
   "id": "10f2435a-9066-4d2d-bc01-fff7f433c95a",
   "metadata": {
    "tags": []
   },
   "outputs": [],
   "source": [
    "unique_uid = tr_user_activity.index\n",
    "\n",
    "np.random.seed(42)\n",
    "idx_perm = np.random.permutation(unique_uid.size)\n",
    "unique_uid = unique_uid[idx_perm]"
   ]
  },
  {
   "cell_type": "code",
   "execution_count": 10,
   "id": "b2a2fa67-9c12-43d8-b078-ae864ba05d1f",
   "metadata": {
    "tags": []
   },
   "outputs": [
    {
     "name": "stdout",
     "output_type": "stream",
     "text": [
      "10368.800000000001\n"
     ]
    }
   ],
   "source": [
    "n_users = unique_uid.size\n",
    "print(n_users*.8)\n",
    "tr_users = unique_uid[:10368]\n",
    "vd_users = unique_uid[10368:]"
   ]
  },
  {
   "cell_type": "code",
   "execution_count": 11,
   "id": "53543ec8-9691-41ee-8284-0d1e32df499a",
   "metadata": {
    "tags": []
   },
   "outputs": [],
   "source": [
    "tr_plays = tr_data.loc[tr_data['user_id'].isin(tr_users)]"
   ]
  },
  {
   "cell_type": "code",
   "execution_count": 12,
   "id": "384c1f80-4dbe-494f-9b5a-de2e74ce9d24",
   "metadata": {
    "tags": []
   },
   "outputs": [],
   "source": [
    "unique_sid = pd.unique(tr_plays['isbn'])"
   ]
  },
  {
   "cell_type": "code",
   "execution_count": 13,
   "id": "36c56350-5dca-446f-81c6-b44098357286",
   "metadata": {
    "tags": []
   },
   "outputs": [],
   "source": [
    "show2id = dict((sid, i) for (i, sid) in enumerate(unique_sid))\n",
    "profile2id = dict((pid, i) for (i, pid) in enumerate(unique_uid))"
   ]
  },
  {
   "cell_type": "code",
   "execution_count": 14,
   "id": "b1aac33c-710f-4d66-9f42-f0a501f508dd",
   "metadata": {
    "tags": []
   },
   "outputs": [],
   "source": [
    "def split_train_test_proportion(data, test_prop=0.2):\n",
    "    data_grouped_by_user = data.groupby('user_id')\n",
    "    tr_list, te_list = list(), list()\n",
    "\n",
    "    np.random.seed(42)\n",
    "\n",
    "    for i, (_, group) in enumerate(data_grouped_by_user):\n",
    "        n_items_u = len(group)\n",
    "\n",
    "        if n_items_u >= 2:\n",
    "            idx = np.zeros(n_items_u, dtype='bool')\n",
    "            idx[np.random.choice(n_items_u, size=int(test_prop * n_items_u), replace=False).astype('int64')] = True\n",
    "\n",
    "            tr_list.append(group[np.logical_not(idx)])\n",
    "            te_list.append(group[idx])\n",
    "        else:\n",
    "            tr_list.append(group)\n",
    "\n",
    "        if i % 1000 == 0:\n",
    "            print(\"%d users sampled\" % i)\n",
    "            sys.stdout.flush()\n",
    "\n",
    "    data_tr = pd.concat(tr_list)\n",
    "    data_te = pd.concat(te_list)\n",
    "    \n",
    "    return data_tr, data_te"
   ]
  },
  {
   "cell_type": "code",
   "execution_count": 15,
   "id": "86427389-0d00-42b6-9318-de2461f7df74",
   "metadata": {
    "tags": []
   },
   "outputs": [],
   "source": [
    "vd_plays = tr_data.loc[tr_data['user_id'].isin(vd_users)]\n",
    "vd_plays = vd_plays.loc[vd_plays['isbn'].isin(unique_sid)]"
   ]
  },
  {
   "cell_type": "code",
   "execution_count": 16,
   "id": "aa9e0d88-7f9f-4b7a-a235-4867289de617",
   "metadata": {
    "tags": []
   },
   "outputs": [
    {
     "name": "stdout",
     "output_type": "stream",
     "text": [
      "0 users sampled\n"
     ]
    }
   ],
   "source": [
    "vd_plays_tr, vd_plays_te = split_train_test_proportion(vd_plays)"
   ]
  },
  {
   "cell_type": "code",
   "execution_count": 17,
   "id": "fdbd898a-3948-45a8-9d84-65e3a9dd5f67",
   "metadata": {},
   "outputs": [],
   "source": [
    "output_dir = '../data'\n",
    "tr_data = numerize(tr_plays)\n",
    "tr_data.to_csv(os.path.join(output_dir, 'train_vae.csv'), index=False)\n",
    "\n",
    "vd_data_tr = numerize(vd_plays_tr)\n",
    "vd_data_tr.to_csv(os.path.join(output_dir, 'validation_tr_vae.csv'), index=False)\n",
    "\n",
    "vd_data_te = numerize(vd_plays_te)\n",
    "vd_data_te.to_csv(os.path.join(output_dir, 'validation_te_vae.csv'), index=False)"
   ]
  },
  {
   "cell_type": "markdown",
   "id": "e840d031-a4a6-4401-92fe-17fcf3639ef6",
   "metadata": {},
   "source": [
    "## Model training"
   ]
  },
  {
   "cell_type": "code",
   "execution_count": 18,
   "id": "7ba950b4-0682-42b4-8dda-08ef3cb29f74",
   "metadata": {
    "tags": []
   },
   "outputs": [
    {
     "name": "stderr",
     "output_type": "stream",
     "text": [
      "/opt/conda/lib/python3.8/site-packages/tqdm/auto.py:21: TqdmWarning: IProgress not found. Please update jupyter and ipywidgets. See https://ipywidgets.readthedocs.io/en/stable/user_install.html\n",
      "  from .autonotebook import tqdm as notebook_tqdm\n"
     ]
    }
   ],
   "source": [
    "import random\n",
    "import torch\n",
    "from torch import optim\n",
    "from src.models.VAE.RecVAE_model import VAE\n",
    "from copy import deepcopy\n",
    "random.seed(42)\n",
    "np.random.seed(42)\n",
    "torch.manual_seed(42)\n",
    "device = torch.device(\"cuda:0\")"
   ]
  },
  {
   "cell_type": "code",
   "execution_count": 19,
   "id": "9197422a-7d7e-4ea8-af7f-a313dd154ea9",
   "metadata": {
    "tags": []
   },
   "outputs": [],
   "source": [
    "def load_data(csv_file):\n",
    "    tp = pd.read_csv(csv_file)\n",
    "    n_users = tp['uid'].max() + 1\n",
    "\n",
    "    rows, cols = tp['uid'], tp['sid']\n",
    "    data = sparse.csr_matrix((np.ones_like(rows),\n",
    "                             (rows, cols)), dtype='float64',\n",
    "                             shape=(n_users, n_items))\n",
    "    return data"
   ]
  },
  {
   "cell_type": "code",
   "execution_count": 20,
   "id": "18f18d52-9a6a-49d1-9c13-9c920678a395",
   "metadata": {
    "tags": []
   },
   "outputs": [],
   "source": [
    "def load_te_data(data):\n",
    "    tp = data\n",
    "    n_users = tp['uid'].max() + 1\n",
    "\n",
    "    rows, cols = tp['uid'], tp['sid']\n",
    "    data = sparse.csr_matrix((np.ones_like(rows),\n",
    "                             (rows, cols)), dtype='float64',\n",
    "                             shape=(n_users, n_items))\n",
    "    return data"
   ]
  },
  {
   "cell_type": "code",
   "execution_count": 21,
   "id": "2bb329bf-25d9-4134-8022-eb6178ac30df",
   "metadata": {
    "tags": []
   },
   "outputs": [],
   "source": [
    "def load_tr_te_data(csv_file_tr, csv_file_te):\n",
    "    tp_tr = pd.read_csv(csv_file_tr)\n",
    "    tp_te = pd.read_csv(csv_file_te)\n",
    "\n",
    "    start_idx = min(tp_tr['uid'].min(), tp_te['uid'].min())\n",
    "    end_idx = max(tp_tr['uid'].max(), tp_te['uid'].max())\n",
    "\n",
    "    rows_tr, cols_tr = tp_tr['uid'] - start_idx, tp_tr['sid']\n",
    "    rows_te, cols_te = tp_te['uid'] - start_idx, tp_te['sid']\n",
    "\n",
    "    data_tr = sparse.csr_matrix((np.ones_like(rows_tr),\n",
    "                             (rows_tr, cols_tr)), dtype='float64', shape=(end_idx - start_idx + 1, n_items))\n",
    "    data_te = sparse.csr_matrix((np.ones_like(rows_te),\n",
    "                             (rows_te, cols_te)), dtype='float64', shape=(end_idx - start_idx + 1, n_items))\n",
    "    return data_tr, data_te"
   ]
  },
  {
   "cell_type": "code",
   "execution_count": 22,
   "id": "0d3b6e49-2fb1-42e5-a2aa-541c3e15c7e3",
   "metadata": {
    "tags": []
   },
   "outputs": [],
   "source": [
    "n_items = len(unique_sid)\n",
    "train_data = load_data(os.path.join(output_dir, 'train_vae.csv'))\n",
    "valid_in_data, valid_out_data = load_tr_te_data(os.path.join(output_dir, 'validation_tr_vae.csv'), os.path.join(output_dir, 'validation_te_vae.csv'))"
   ]
  },
  {
   "cell_type": "code",
   "execution_count": 23,
   "id": "9c0c7501-ce77-4242-b1a6-e20e6b2c8fe3",
   "metadata": {
    "tags": []
   },
   "outputs": [],
   "source": [
    "def generate(batch_size, device, data_in, data_out=None, shuffle=False, samples_perc_per_epoch=1):\n",
    "    assert 0 < samples_perc_per_epoch <= 1\n",
    "    \n",
    "    total_samples = data_in.shape[0]\n",
    "    samples_per_epoch = int(total_samples * samples_perc_per_epoch)\n",
    "    \n",
    "    if shuffle:\n",
    "        idxlist = np.arange(total_samples)\n",
    "        np.random.shuffle(idxlist)\n",
    "        idxlist = idxlist[:samples_per_epoch]\n",
    "    else:\n",
    "        idxlist = np.arange(samples_per_epoch)\n",
    "    \n",
    "    for st_idx in range(0, samples_per_epoch, batch_size):\n",
    "        end_idx = min(st_idx + batch_size, samples_per_epoch)\n",
    "        idx = idxlist[st_idx:end_idx]\n",
    "\n",
    "        yield Batch(device, idx, data_in, data_out)"
   ]
  },
  {
   "cell_type": "code",
   "execution_count": 24,
   "id": "fa2e6488-f714-4ea5-a0cb-8a2f84ff4729",
   "metadata": {
    "tags": []
   },
   "outputs": [],
   "source": [
    "class Batch:\n",
    "    def __init__(self, device, idx, data_in, data_out=None):\n",
    "        self._device = device\n",
    "        self._idx = idx\n",
    "        self._data_in = data_in\n",
    "        self._data_out = data_out\n",
    "    \n",
    "    def get_idx(self):\n",
    "        return self._idx\n",
    "    \n",
    "    def get_idx_to_dev(self):\n",
    "        return torch.LongTensor(self.get_idx()).to(self._device)\n",
    "        \n",
    "    def get_ratings(self, is_out=False):\n",
    "        data = self._data_out if is_out else self._data_in\n",
    "        return data[self._idx]\n",
    "    \n",
    "    def get_ratings_to_dev(self, is_out=False):\n",
    "        return torch.Tensor(\n",
    "            self.get_ratings(is_out).toarray()\n",
    "        ).to(self._device)"
   ]
  },
  {
   "cell_type": "code",
   "execution_count": 25,
   "id": "aa85113c-de86-4aff-91ae-b73900a8c9d2",
   "metadata": {
    "tags": []
   },
   "outputs": [],
   "source": [
    "def evaluate(model, data_in, data_out, metrics, samples_perc_per_epoch=1, batch_size=500):\n",
    "    metrics = deepcopy(metrics)\n",
    "    model.eval()\n",
    "    \n",
    "    for m in metrics:\n",
    "        m['score'] = []\n",
    "        \n",
    "    for batch in generate(batch_size=batch_size,\n",
    "                          device=device,\n",
    "                          data_in=data_in,\n",
    "                          data_out=data_out,\n",
    "                          samples_perc_per_epoch=samples_perc_per_epoch\n",
    "                         ):\n",
    "        \n",
    "        ratings_in = batch.get_ratings_to_dev()\n",
    "        ratings_out = batch.get_ratings(is_out=True)\n",
    "    \n",
    "        ratings_pred = model(ratings_in, calculate_loss=False).cpu().detach().numpy()\n",
    "        \n",
    "        if not (data_in is data_out):\n",
    "            ratings_pred[batch.get_ratings().nonzero()] = -np.inf\n",
    "            \n",
    "        for m in metrics:\n",
    "            m['score'].append(m['metric'](ratings_pred, ratings_out, k=m['k']))\n",
    "\n",
    "    for m in metrics:\n",
    "        m['score'] = np.concatenate(m['score']).mean()\n",
    "        \n",
    "    return [x['score'] for x in metrics]"
   ]
  },
  {
   "cell_type": "code",
   "execution_count": 26,
   "id": "018fc3a8-13c9-4b37-a54a-ad67911386b6",
   "metadata": {
    "tags": []
   },
   "outputs": [],
   "source": [
    "def run(model, opts, train_data, batch_size, n_epochs, beta, gamma, dropout_rate):\n",
    "    model.train()\n",
    "    for epoch in range(n_epochs):\n",
    "        for batch in generate(batch_size=batch_size, device=device, data_in=train_data, shuffle=True):\n",
    "            ratings = batch.get_ratings_to_dev()\n",
    "\n",
    "            for optimizer in opts:\n",
    "                optimizer.zero_grad()\n",
    "                \n",
    "            _, loss = model(ratings, beta=beta, gamma=gamma, dropout_rate=dropout_rate)\n",
    "            loss.backward()\n",
    "            \n",
    "            for optimizer in opts:\n",
    "                optimizer.step()"
   ]
  },
  {
   "cell_type": "code",
   "execution_count": 27,
   "id": "ee4f8542-1a7d-4741-9276-5abc040b1f2c",
   "metadata": {
    "tags": []
   },
   "outputs": [],
   "source": [
    "def ndcg(X_pred, heldout_batch, k=100):\n",
    "    '''\n",
    "    normalized discounted cumulative gain@k for binary relevance\n",
    "    ASSUMPTIONS: all the 0's in heldout_data indicate 0 relevance\n",
    "    '''\n",
    "    batch_users = X_pred.shape[0]\n",
    "    idx_topk_part = bn.argpartition(-X_pred, k, axis=1)\n",
    "    topk_part = X_pred[np.arange(batch_users)[:, np.newaxis],\n",
    "                       idx_topk_part[:, :k]]\n",
    "    idx_part = np.argsort(-topk_part, axis=1)\n",
    "    # X_pred[np.arange(batch_users)[:, np.newaxis], idx_topk] is the sorted\n",
    "    # topk predicted score\n",
    "    idx_topk = idx_topk_part[np.arange(batch_users)[:, np.newaxis], idx_part]\n",
    "    # build the discount template\n",
    "    tp = 1. / np.log2(np.arange(2, k + 2))\n",
    "\n",
    "    DCG = (heldout_batch[np.arange(batch_users)[:, np.newaxis],\n",
    "                         idx_topk].toarray() * tp).sum(axis=1)\n",
    "    IDCG = np.array([(tp[:min(n, k)]).sum()\n",
    "                     for n in heldout_batch.getnnz(axis=1)])\n",
    "    return DCG / IDCG"
   ]
  },
  {
   "cell_type": "code",
   "execution_count": 28,
   "id": "0912c587-5e1f-4c84-b85a-29535fc9a870",
   "metadata": {
    "tags": []
   },
   "outputs": [],
   "source": [
    "def recall(X_pred, heldout_batch, k=100):\n",
    "    batch_users = X_pred.shape[0]\n",
    "\n",
    "    idx = bn.argpartition(-X_pred, k, axis=1)\n",
    "    X_pred_binary = np.zeros_like(X_pred, dtype=bool)\n",
    "    X_pred_binary[np.arange(batch_users)[:, np.newaxis], idx[:, :k]] = True\n",
    "\n",
    "    X_true_binary = (heldout_batch > 0).toarray()\n",
    "    tmp = (np.logical_and(X_true_binary, X_pred_binary).sum(axis=1)).astype(\n",
    "        np.float32)\n",
    "    recall = tmp / np.minimum(k, X_true_binary.sum(axis=1))\n",
    "    return "
   ]
  },
  {
   "cell_type": "code",
   "execution_count": 29,
   "id": "eb53f1ca-0c2f-46f4-ac8a-9083435daa8c",
   "metadata": {
    "tags": []
   },
   "outputs": [],
   "source": [
    "model_kwargs = {\n",
    "    'hidden_dim': 400,\n",
    "    'latent_dim': 100,\n",
    "    'input_dim': train_data.shape[1]\n",
    "}\n",
    "metrics = [{'metric': ndcg, 'k': 20}]\n",
    "\n",
    "best_ndcg = -np.inf\n",
    "train_scores, valid_scores = [], []"
   ]
  },
  {
   "cell_type": "code",
   "execution_count": 30,
   "id": "0e2055b1-4492-49b6-b49e-d5d0c0e17e03",
   "metadata": {
    "tags": []
   },
   "outputs": [],
   "source": [
    "model = VAE(**model_kwargs).to(device)\n",
    "model_best = VAE(**model_kwargs).to(device)"
   ]
  },
  {
   "cell_type": "code",
   "execution_count": 31,
   "id": "645da498-7ada-49ad-9594-1fb5d97fde8d",
   "metadata": {
    "tags": []
   },
   "outputs": [
    {
     "data": {
      "text/plain": [
       "VAE(\n",
       "  (encoder): Encoder(\n",
       "    (fc1): Linear(in_features=12559, out_features=400, bias=True)\n",
       "    (ln1): LayerNorm((400,), eps=0.1, elementwise_affine=True)\n",
       "    (fc2): Linear(in_features=400, out_features=400, bias=True)\n",
       "    (ln2): LayerNorm((400,), eps=0.1, elementwise_affine=True)\n",
       "    (fc3): Linear(in_features=400, out_features=400, bias=True)\n",
       "    (ln3): LayerNorm((400,), eps=0.1, elementwise_affine=True)\n",
       "    (fc4): Linear(in_features=400, out_features=400, bias=True)\n",
       "    (ln4): LayerNorm((400,), eps=0.1, elementwise_affine=True)\n",
       "    (fc5): Linear(in_features=400, out_features=400, bias=True)\n",
       "    (ln5): LayerNorm((400,), eps=0.1, elementwise_affine=True)\n",
       "    (fc_mu): Linear(in_features=400, out_features=100, bias=True)\n",
       "    (fc_logvar): Linear(in_features=400, out_features=100, bias=True)\n",
       "  )\n",
       "  (prior): CompositePrior(\n",
       "    (encoder_old): Encoder(\n",
       "      (fc1): Linear(in_features=12559, out_features=400, bias=True)\n",
       "      (ln1): LayerNorm((400,), eps=0.1, elementwise_affine=True)\n",
       "      (fc2): Linear(in_features=400, out_features=400, bias=True)\n",
       "      (ln2): LayerNorm((400,), eps=0.1, elementwise_affine=True)\n",
       "      (fc3): Linear(in_features=400, out_features=400, bias=True)\n",
       "      (ln3): LayerNorm((400,), eps=0.1, elementwise_affine=True)\n",
       "      (fc4): Linear(in_features=400, out_features=400, bias=True)\n",
       "      (ln4): LayerNorm((400,), eps=0.1, elementwise_affine=True)\n",
       "      (fc5): Linear(in_features=400, out_features=400, bias=True)\n",
       "      (ln5): LayerNorm((400,), eps=0.1, elementwise_affine=True)\n",
       "      (fc_mu): Linear(in_features=400, out_features=100, bias=True)\n",
       "      (fc_logvar): Linear(in_features=400, out_features=100, bias=True)\n",
       "    )\n",
       "  )\n",
       "  (decoder): Linear(in_features=100, out_features=12559, bias=True)\n",
       ")"
      ]
     },
     "execution_count": 31,
     "metadata": {},
     "output_type": "execute_result"
    }
   ],
   "source": [
    "model"
   ]
  },
  {
   "cell_type": "code",
   "execution_count": 32,
   "id": "be418f02-9819-4852-a25e-1c2507ca8e8d",
   "metadata": {
    "tags": []
   },
   "outputs": [],
   "source": [
    "learning_kwargs = {\n",
    "    'model': model,\n",
    "    'train_data': train_data,\n",
    "    'batch_size': 256,\n",
    "    'beta': None,\n",
    "    'gamma': 0.005\n",
    "}"
   ]
  },
  {
   "cell_type": "code",
   "execution_count": 33,
   "id": "04c9a723-f859-499a-97a0-3b79eefbcd85",
   "metadata": {
    "tags": []
   },
   "outputs": [],
   "source": [
    "decoder_params = set(model.decoder.parameters())\n",
    "encoder_params = set(model.encoder.parameters())"
   ]
  },
  {
   "cell_type": "code",
   "execution_count": 34,
   "id": "a3e8d01b-7b7d-4878-8a5f-4a260e251180",
   "metadata": {
    "tags": []
   },
   "outputs": [],
   "source": [
    "optimizer_encoder = optim.Adam(encoder_params, lr=5e-4)\n",
    "optimizer_decoder = optim.Adam(decoder_params, lr=5e-4)"
   ]
  },
  {
   "cell_type": "code",
   "execution_count": 35,
   "id": "c77d1366-7490-4d16-b135-dbcf5a24809b",
   "metadata": {
    "tags": []
   },
   "outputs": [
    {
     "name": "stderr",
     "output_type": "stream",
     "text": [
      "/tmp/ipykernel_33095/3308058905.py:21: RuntimeWarning: invalid value encountered in true_divide\n",
      "  return DCG / IDCG\n"
     ]
    },
    {
     "name": "stdout",
     "output_type": "stream",
     "text": [
      "epoch 0 | valid ndcg@100: nan | best valid: -inf | train ndcg@100: nan\n",
      "epoch 1 | valid ndcg@100: nan | best valid: -inf | train ndcg@100: nan\n",
      "epoch 2 | valid ndcg@100: nan | best valid: -inf | train ndcg@100: nan\n",
      "epoch 3 | valid ndcg@100: nan | best valid: -inf | train ndcg@100: nan\n",
      "epoch 4 | valid ndcg@100: nan | best valid: -inf | train ndcg@100: nan\n",
      "epoch 5 | valid ndcg@100: nan | best valid: -inf | train ndcg@100: nan\n",
      "epoch 6 | valid ndcg@100: nan | best valid: -inf | train ndcg@100: nan\n",
      "epoch 7 | valid ndcg@100: nan | best valid: -inf | train ndcg@100: nan\n",
      "epoch 8 | valid ndcg@100: nan | best valid: -inf | train ndcg@100: nan\n",
      "epoch 9 | valid ndcg@100: nan | best valid: -inf | train ndcg@100: nan\n",
      "epoch 10 | valid ndcg@100: nan | best valid: -inf | train ndcg@100: nan\n",
      "epoch 11 | valid ndcg@100: nan | best valid: -inf | train ndcg@100: nan\n",
      "epoch 12 | valid ndcg@100: nan | best valid: -inf | train ndcg@100: nan\n",
      "epoch 13 | valid ndcg@100: nan | best valid: -inf | train ndcg@100: nan\n",
      "epoch 14 | valid ndcg@100: nan | best valid: -inf | train ndcg@100: nan\n",
      "epoch 15 | valid ndcg@100: nan | best valid: -inf | train ndcg@100: nan\n",
      "epoch 16 | valid ndcg@100: nan | best valid: -inf | train ndcg@100: nan\n",
      "epoch 17 | valid ndcg@100: nan | best valid: -inf | train ndcg@100: nan\n",
      "epoch 18 | valid ndcg@100: nan | best valid: -inf | train ndcg@100: nan\n",
      "epoch 19 | valid ndcg@100: nan | best valid: -inf | train ndcg@100: nan\n",
      "epoch 20 | valid ndcg@100: nan | best valid: -inf | train ndcg@100: nan\n",
      "epoch 21 | valid ndcg@100: nan | best valid: -inf | train ndcg@100: nan\n",
      "epoch 22 | valid ndcg@100: nan | best valid: -inf | train ndcg@100: nan\n",
      "epoch 23 | valid ndcg@100: nan | best valid: -inf | train ndcg@100: nan\n",
      "epoch 24 | valid ndcg@100: nan | best valid: -inf | train ndcg@100: nan\n",
      "epoch 25 | valid ndcg@100: nan | best valid: -inf | train ndcg@100: nan\n",
      "epoch 26 | valid ndcg@100: nan | best valid: -inf | train ndcg@100: nan\n",
      "epoch 27 | valid ndcg@100: nan | best valid: -inf | train ndcg@100: nan\n",
      "epoch 28 | valid ndcg@100: nan | best valid: -inf | train ndcg@100: nan\n",
      "epoch 29 | valid ndcg@100: nan | best valid: -inf | train ndcg@100: nan\n",
      "epoch 30 | valid ndcg@100: nan | best valid: -inf | train ndcg@100: nan\n",
      "epoch 31 | valid ndcg@100: nan | best valid: -inf | train ndcg@100: nan\n",
      "epoch 32 | valid ndcg@100: nan | best valid: -inf | train ndcg@100: nan\n",
      "epoch 33 | valid ndcg@100: nan | best valid: -inf | train ndcg@100: nan\n",
      "epoch 34 | valid ndcg@100: nan | best valid: -inf | train ndcg@100: nan\n",
      "epoch 35 | valid ndcg@100: nan | best valid: -inf | train ndcg@100: nan\n",
      "epoch 36 | valid ndcg@100: nan | best valid: -inf | train ndcg@100: nan\n",
      "epoch 37 | valid ndcg@100: nan | best valid: -inf | train ndcg@100: nan\n",
      "epoch 38 | valid ndcg@100: nan | best valid: -inf | train ndcg@100: nan\n",
      "epoch 39 | valid ndcg@100: nan | best valid: -inf | train ndcg@100: nan\n",
      "epoch 40 | valid ndcg@100: nan | best valid: -inf | train ndcg@100: nan\n",
      "epoch 41 | valid ndcg@100: nan | best valid: -inf | train ndcg@100: nan\n",
      "epoch 42 | valid ndcg@100: nan | best valid: -inf | train ndcg@100: nan\n",
      "epoch 43 | valid ndcg@100: nan | best valid: -inf | train ndcg@100: nan\n",
      "epoch 44 | valid ndcg@100: nan | best valid: -inf | train ndcg@100: nan\n",
      "epoch 45 | valid ndcg@100: nan | best valid: -inf | train ndcg@100: nan\n",
      "epoch 46 | valid ndcg@100: nan | best valid: -inf | train ndcg@100: nan\n",
      "epoch 47 | valid ndcg@100: nan | best valid: -inf | train ndcg@100: nan\n",
      "epoch 48 | valid ndcg@100: nan | best valid: -inf | train ndcg@100: nan\n",
      "epoch 49 | valid ndcg@100: nan | best valid: -inf | train ndcg@100: nan\n"
     ]
    }
   ],
   "source": [
    "for epoch in range(50):\n",
    "\n",
    "    if False:\n",
    "        run(opts=[optimizer_encoder, optimizer_decoder], n_epochs=1, dropout_rate=0.5, **learning_kwargs)\n",
    "    else:\n",
    "        run(opts=[optimizer_encoder], n_epochs=3, dropout_rate=0.5, **learning_kwargs)\n",
    "        model.update_prior()\n",
    "        run(opts=[optimizer_decoder], n_epochs=1, dropout_rate=0, **learning_kwargs)\n",
    "\n",
    "    train_scores.append(\n",
    "        evaluate(model, train_data, train_data, metrics, 0.01)[0]\n",
    "    )\n",
    "    valid_scores.append(\n",
    "        evaluate(model, valid_in_data, valid_out_data, metrics, 1)[0]\n",
    "    )\n",
    "    \n",
    "    if valid_scores[-1] > best_ndcg:\n",
    "        best_ndcg = valid_scores[-1]\n",
    "        model_best.load_state_dict(deepcopy(model.state_dict()))\n",
    "        \n",
    "\n",
    "    print(f'epoch {epoch} | valid ndcg@100: {valid_scores[-1]:.4f} | ' +\n",
    "          f'best valid: {best_ndcg:.4f} | train ndcg@100: {train_scores[-1]:.4f}')\n"
   ]
  },
  {
   "cell_type": "code",
   "execution_count": 36,
   "id": "04d2f395-e983-4be7-902d-3a4f287e4d12",
   "metadata": {},
   "outputs": [
    {
     "ename": "NameError",
     "evalue": "name 'test_data' is not defined",
     "output_type": "error",
     "traceback": [
      "\u001b[0;31m---------------------------------------------------------------------------\u001b[0m",
      "\u001b[0;31mNameError\u001b[0m                                 Traceback (most recent call last)",
      "Cell \u001b[0;32mIn[36], line 3\u001b[0m\n\u001b[1;32m      1\u001b[0m test_metrics \u001b[38;5;241m=\u001b[39m [{\u001b[38;5;124m'\u001b[39m\u001b[38;5;124mmetric\u001b[39m\u001b[38;5;124m'\u001b[39m: ndcg, \u001b[38;5;124m'\u001b[39m\u001b[38;5;124mk\u001b[39m\u001b[38;5;124m'\u001b[39m: \u001b[38;5;241m100\u001b[39m}, {\u001b[38;5;124m'\u001b[39m\u001b[38;5;124mmetric\u001b[39m\u001b[38;5;124m'\u001b[39m: recall, \u001b[38;5;124m'\u001b[39m\u001b[38;5;124mk\u001b[39m\u001b[38;5;124m'\u001b[39m: \u001b[38;5;241m20\u001b[39m}, {\u001b[38;5;124m'\u001b[39m\u001b[38;5;124mmetric\u001b[39m\u001b[38;5;124m'\u001b[39m: recall, \u001b[38;5;124m'\u001b[39m\u001b[38;5;124mk\u001b[39m\u001b[38;5;124m'\u001b[39m: \u001b[38;5;241m50\u001b[39m}]\n\u001b[0;32m----> 3\u001b[0m final_scores \u001b[38;5;241m=\u001b[39m evaluate(model_best, \u001b[43mtest_data\u001b[49m, test_data, test_metrics)\n\u001b[1;32m      5\u001b[0m \u001b[38;5;28;01mfor\u001b[39;00m metric, score \u001b[38;5;129;01min\u001b[39;00m \u001b[38;5;28mzip\u001b[39m(test_metrics, final_scores):\n\u001b[1;32m      6\u001b[0m     \u001b[38;5;28mprint\u001b[39m(\u001b[38;5;124mf\u001b[39m\u001b[38;5;124m\"\u001b[39m\u001b[38;5;132;01m{\u001b[39;00mmetric[\u001b[38;5;124m'\u001b[39m\u001b[38;5;124mmetric\u001b[39m\u001b[38;5;124m'\u001b[39m]\u001b[38;5;241m.\u001b[39m\u001b[38;5;18m__name__\u001b[39m\u001b[38;5;132;01m}\u001b[39;00m\u001b[38;5;124m@\u001b[39m\u001b[38;5;132;01m{\u001b[39;00mmetric[\u001b[38;5;124m'\u001b[39m\u001b[38;5;124mk\u001b[39m\u001b[38;5;124m'\u001b[39m]\u001b[38;5;132;01m}\u001b[39;00m\u001b[38;5;124m:\u001b[39m\u001b[38;5;130;01m\\t\u001b[39;00m\u001b[38;5;132;01m{\u001b[39;00mscore\u001b[38;5;132;01m:\u001b[39;00m\u001b[38;5;124m.4f\u001b[39m\u001b[38;5;132;01m}\u001b[39;00m\u001b[38;5;124m\"\u001b[39m)\n",
      "\u001b[0;31mNameError\u001b[0m: name 'test_data' is not defined"
     ]
    }
   ],
   "source": [
    "test_metrics = [{'metric': ndcg, 'k': 100}, {'metric': recall, 'k': 20}, {'metric': recall, 'k': 50}]\n",
    "\n",
    "final_scores = evaluate(model_best, test_data, test_data, test_metrics)\n",
    "\n",
    "for metric, score in zip(test_metrics, final_scores):\n",
    "    print(f\"{metric['metric'].__name__}@{metric['k']}:\\t{score:.4f}\")"
   ]
  },
  {
   "cell_type": "code",
   "execution_count": null,
   "id": "2ba24ab6-e93c-414d-860f-54cbeb97de4c",
   "metadata": {},
   "outputs": [],
   "source": []
  },
  {
   "cell_type": "code",
   "execution_count": null,
   "id": "89740033-9f4d-4fae-a397-d48c9c9197f8",
   "metadata": {},
   "outputs": [],
   "source": []
  }
 ],
 "metadata": {
  "kernelspec": {
   "display_name": "Python 3 (ipykernel)",
   "language": "python",
   "name": "python3"
  },
  "language_info": {
   "codemirror_mode": {
    "name": "ipython",
    "version": 3
   },
   "file_extension": ".py",
   "mimetype": "text/x-python",
   "name": "python",
   "nbconvert_exporter": "python",
   "pygments_lexer": "ipython3",
   "version": "3.8.5"
  }
 },
 "nbformat": 4,
 "nbformat_minor": 5
}
